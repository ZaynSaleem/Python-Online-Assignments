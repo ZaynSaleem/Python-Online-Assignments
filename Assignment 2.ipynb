{
 "cells": [
  {
   "cell_type": "markdown",
   "metadata": {},
   "source": [
    "<h1><center>Assignment 1</center></h1>"
   ]
  },
  {
   "cell_type": "markdown",
   "metadata": {},
   "source": [
    "## Question 1"
   ]
  },
  {
   "cell_type": "code",
   "execution_count": 8,
   "metadata": {},
   "outputs": [
    {
     "name": "stdout",
     "output_type": "stream",
     "text": [
      "Enter English marks 81\n",
      "Enter Maths marks 67\n",
      "Enter Urdu marks 42\n",
      "Enter arabic marks 90\n",
      "Enter Science marks 73\n",
      "\n",
      "****** Marksheet ****** \n",
      "\n",
      "English: 81\n",
      "Maths: 67\n",
      "Urdu: 42\n",
      "Arabic: 90\n",
      "Science: 73\n",
      "Total marks: 353\n",
      "Percentage: 70.6%\n",
      "Grade: A\n"
     ]
    }
   ],
   "source": [
    "eng = input(\"Enter English marks \")\n",
    "math = input(\"Enter Maths marks \")\n",
    "urdu = input(\"Enter Urdu marks \")\n",
    "arabic = input(\"Enter arabic marks \")\n",
    "science = input(\"Enter Science marks \")\n",
    "\n",
    "total = int(eng) + int(math) + int(urdu) + int(arabic) + int(science)\n",
    "per = (total * 100) / 500\n",
    "\n",
    "if per >= 80:\n",
    "    print(\"\\n****** Marksheet ****** \\n\\nEnglish: \" + str(eng) + \"\\nMaths: \" + str(math) + \"\\nUrdu: \" + str(urdu) + \"\\nArabic: \" \n",
    "          + str(arabic) + \"\\nScience: \" + str(science) + \"\\nTotal marks: \" + str(total) + \"\\nPercentage: \" + str(per) + \"%\" \n",
    "          + \"\\nGrade: A+\" )\n",
    "elif per >= 70:\n",
    "    print(\"\\n****** Marksheet ****** \\n\\nEnglish: \" + str(eng) + \"\\nMaths: \" + str(math) + \"\\nUrdu: \" + str(urdu) + \"\\nArabic: \" \n",
    "          + str(arabic) + \"\\nScience: \" + str(science) + \"\\nTotal marks: \" + str(total) + \"\\nPercentage: \" + str(per) + \"%\" \n",
    "          + \"\\nGrade: A\" )\n",
    "elif per >= 60:\n",
    "    print(\"\\n****** Marksheet ****** \\n\\nEnglish: \" + str(eng) + \"\\nMaths: \" + str(math) + \"\\nUrdu: \" + str(urdu) + \"\\nArabic: \" \n",
    "          + str(arabic) + \"\\nScience: \" + str(science) + \"\\nTotal marks: \" + str(total) + \"\\nPercentage: \" + str(per) + \"%\" \n",
    "          + \"\\nGrade: B\" )\n",
    "elif per >= 50:\n",
    "    print(\"\\n****** Marksheet ****** \\n\\nEnglish: \" + str(eng) + \"\\nMaths: \" + str(math) + \"\\nUrdu: \" + str(urdu) + \"\\nArabic: \" \n",
    "          + str(arabic) + \"\\nScience: \" + str(science) + \"\\nTotal marks: \" + str(total) + \"\\nPercentage: \" + str(per) + \"%\" \n",
    "          + \"\\nGrade: C\" )\n",
    "elif per >= 40:\n",
    "    print(\"\\n****** Marksheet ****** \\n\\nEnglish: \" + str(eng) + \"\\nMaths: \" + str(math) + \"\\nUrdu: \" + str(urdu) + \"\\nArabic: \" \n",
    "          + str(arabic) + \"\\nScience: \" + str(science) + \"\\nTotal marks: \" + str(total) + \"\\nPercentage: \" + str(per) + \"%\" \n",
    "          + \"\\nGrade: D\" )\n",
    "elif per >= 33:\n",
    "    print(\"\\n****** Marksheet ****** \\n\\nEnglish: \" + str(eng) + \"\\nMaths: \" + str(math) + \"\\nUrdu: \" + str(urdu) + \"\\nArabic: \" \n",
    "          + str(arabic) + \"\\nScience: \" + str(science) + \"\\nTotal marks: \" + str(total) + \"\\nPercentage: \" + str(per) + \"%\" \n",
    "          + \"\\nGrade: E\" )\n",
    "else:\n",
    "    print(\"\\n****** Marksheet ****** \\n\\nEnglish: \" + str(eng) + \"\\nMaths: \" + str(math) + \"\\nUrdu: \" + str(urdu) + \"\\nArabic: \" \n",
    "          + str(arabic) + \"\\nScience: \" + str(science) + \"\\nTotal marks: \" + str(total) + \"\\nPercentage: \" + str(per) + \"%\" \n",
    "          + \"\\nGrade: F\" )"
   ]
  },
  {
   "cell_type": "markdown",
   "metadata": {},
   "source": [
    "## Question 2"
   ]
  },
  {
   "cell_type": "code",
   "execution_count": 11,
   "metadata": {},
   "outputs": [
    {
     "name": "stdout",
     "output_type": "stream",
     "text": [
      "Enter number15\n",
      "odd number\n"
     ]
    }
   ],
   "source": [
    "inp = int(input(\"Enter number\"))\n",
    "\n",
    "if(inp % 2 == 0):\n",
    "    print(\"Even number\")\n",
    "else:\n",
    "    print(\"odd number\")"
   ]
  },
  {
   "cell_type": "markdown",
   "metadata": {},
   "source": [
    "## Question 3"
   ]
  },
  {
   "cell_type": "code",
   "execution_count": 14,
   "metadata": {},
   "outputs": [
    {
     "name": "stdout",
     "output_type": "stream",
     "text": [
      "6\n"
     ]
    }
   ],
   "source": [
    "list1 = [1, 2, 3, 5, 6, 13]\n",
    "\n",
    "print(len(list1))"
   ]
  },
  {
   "cell_type": "markdown",
   "metadata": {},
   "source": [
    "## Question 4"
   ]
  },
  {
   "cell_type": "code",
   "execution_count": 17,
   "metadata": {},
   "outputs": [
    {
     "name": "stdout",
     "output_type": "stream",
     "text": [
      "30\n"
     ]
    }
   ],
   "source": [
    "list2 = [1, 2, 3, 5, 6, 13]\n",
    "\n",
    "print(sum(list2))"
   ]
  },
  {
   "cell_type": "markdown",
   "metadata": {},
   "source": [
    "## Question 5"
   ]
  },
  {
   "cell_type": "code",
   "execution_count": 18,
   "metadata": {},
   "outputs": [
    {
     "name": "stdout",
     "output_type": "stream",
     "text": [
      "13\n"
     ]
    }
   ],
   "source": [
    "list3 = [1, 2, 3, 5, 6, 13]\n",
    "\n",
    "print(max(list3))"
   ]
  },
  {
   "cell_type": "markdown",
   "metadata": {},
   "source": [
    "## Question 6"
   ]
  },
  {
   "cell_type": "code",
   "execution_count": 19,
   "metadata": {},
   "outputs": [
    {
     "name": "stdout",
     "output_type": "stream",
     "text": [
      "1\n",
      "1\n",
      "2\n",
      "3\n"
     ]
    }
   ],
   "source": [
    "list4 = [1, 1, 2, 3, 5, 8, 13, 21, 34, 55, 89]\n",
    "\n",
    "for item in list4:\n",
    "    if item < 5:\n",
    "        print(item)"
   ]
  }
 ],
 "metadata": {
  "kernelspec": {
   "display_name": "Python 3",
   "language": "python",
   "name": "python3"
  },
  "language_info": {
   "codemirror_mode": {
    "name": "ipython",
    "version": 3
   },
   "file_extension": ".py",
   "mimetype": "text/x-python",
   "name": "python",
   "nbconvert_exporter": "python",
   "pygments_lexer": "ipython3",
   "version": "3.7.3"
  }
 },
 "nbformat": 4,
 "nbformat_minor": 2
}
